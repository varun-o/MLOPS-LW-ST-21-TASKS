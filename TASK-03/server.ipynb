{
 "cells": [
  {
   "cell_type": "code",
   "execution_count": null,
   "id": "c339fcb2",
   "metadata": {},
   "outputs": [],
   "source": [
    "import socket\n",
    "import threading\n",
    "import cv2\n",
    "import numpy as np\n",
    "import struct\n",
    "import pickle"
   ]
  },
  {
   "cell_type": "code",
   "execution_count": null,
   "id": "7b66bdde",
   "metadata": {},
   "outputs": [],
   "source": [
    "# Configure Socket\n",
    "s = socket.socket()\n",
    "s.setsockopt(socket.SOL_SOCKET, socket.SO_REUSEADDR, 1)"
   ]
  },
  {
   "cell_type": "code",
   "execution_count": null,
   "id": "480b7f08",
   "metadata": {},
   "outputs": [],
   "source": [
    "Port= 2021\n",
    "Host=\"\""
   ]
  },
  {
   "cell_type": "code",
   "execution_count": null,
   "id": "398d558f",
   "metadata": {},
   "outputs": [],
   "source": [
    "print(\"********* SOCKET SUCCESSFULLY CREATED **********\")\n"
   ]
  },
  {
   "cell_type": "code",
   "execution_count": null,
   "id": "19dfd33b",
   "metadata": {},
   "outputs": [],
   "source": [
    "s.bind((Host,Port))\n",
    "print(\"************ SOCKET BIND COMPLETED *************\")"
   ]
  },
  {
   "cell_type": "code",
   "execution_count": null,
   "id": "c5aa102f",
   "metadata": {},
   "outputs": [],
   "source": [
    "s.listen()\n",
    "print(\"************* SOCKET IS LISTENING **************\")"
   ]
  },
  {
   "cell_type": "code",
   "execution_count": null,
   "id": "3f9427af",
   "metadata": {},
   "outputs": [],
   "source": [
    "conn,addr=s.accept()\n"
   ]
  },
  {
   "cell_type": "code",
   "execution_count": null,
   "id": "d0ade362",
   "metadata": {},
   "outputs": [],
   "source": [
    "# Data Transfer\n",
    "data = b\"\"\n",
    "payload_size = struct.calcsize(\">L\")"
   ]
  },
  {
   "cell_type": "code",
   "execution_count": null,
   "id": "f17d78a6",
   "metadata": {},
   "outputs": [],
   "source": [
    "while True:\n",
    "    while len(data) < payload_size:\n",
    "        print(\"Recv: {}\".format(len(data)))\n",
    "        data += conn.recv(10)\n",
    "        \n",
    "    print(\"Done Recv: {}\".format(len(data)))\n",
    "    packed_msg_size = data[:payload_size]\n",
    "    data = data[payload_size:]\n",
    "    msg_size = struct.unpack(\">L\", packed_msg_size)[0]\n",
    "    print(\"msg_size: {}\".format(msg_size))\n",
    "    \n",
    "    while len(data) < msg_size:\n",
    "        data += conn.recv(10)\n",
    "    frame_data = data[:msg_size]\n",
    "    data = data[msg_size:]\n",
    "    frame=pickle.loads(frame_data, fix_imports=True, encoding=\"bytes\")\n",
    "    frame = cv2.imdecode(frame, cv2.IMREAD_COLOR)\n",
    "    cv2.imshow('Server',frame)\n",
    "    if cv2.waitKey(1) & 0xff==ord(\"q\"):\n",
    "        cv2.destroyAllWindows()\n",
    "        cam.release()\n",
    "        s.close()"
   ]
  },
  {
   "cell_type": "code",
   "execution_count": null,
   "id": "5d0310d9",
   "metadata": {},
   "outputs": [],
   "source": [
    "cam.release()\n"
   ]
  },
  {
   "cell_type": "code",
   "execution_count": null,
   "id": "ef532854",
   "metadata": {},
   "outputs": [],
   "source": []
  }
 ],
 "metadata": {
  "kernelspec": {
   "display_name": "Python 3",
   "language": "python",
   "name": "python3"
  },
  "language_info": {
   "codemirror_mode": {
    "name": "ipython",
    "version": 3
   },
   "file_extension": ".py",
   "mimetype": "text/x-python",
   "name": "python",
   "nbconvert_exporter": "python",
   "pygments_lexer": "ipython3",
   "version": "3.8.8"
  }
 },
 "nbformat": 4,
 "nbformat_minor": 5
}
