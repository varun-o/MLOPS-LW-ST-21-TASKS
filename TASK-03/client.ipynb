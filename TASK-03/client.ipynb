{
 "cells": [
  {
   "cell_type": "code",
   "execution_count": null,
   "id": "81b7b029",
   "metadata": {},
   "outputs": [],
   "source": [
    "import socket\n",
    "import cv2 \n",
    "import pickle\n",
    "import struct"
   ]
  },
  {
   "cell_type": "code",
   "execution_count": null,
   "id": "b98635fa",
   "metadata": {},
   "outputs": [],
   "source": [
    "# Configure Socket\n",
    "s = socket.socket()\n",
    "serverhost = \"192.168.1.3\"\n",
    "serverport = 2021\n",
    "s.connect( (serverhost,serverport) )\n",
    "print(\"********* SOCKET SUCCESSFULLY CREATED **********\")"
   ]
  },
  {
   "cell_type": "code",
   "execution_count": null,
   "id": "dc2dd184",
   "metadata": {},
   "outputs": [],
   "source": [
    "# Data Transfer\n",
    "cam = cv2.VideoCapture(0)"
   ]
  },
  {
   "cell_type": "code",
   "execution_count": null,
   "id": "d20a12ea",
   "metadata": {},
   "outputs": [],
   "source": [
    "img_counter = 0"
   ]
  },
  {
   "cell_type": "code",
   "execution_count": null,
   "id": "a3b13086",
   "metadata": {},
   "outputs": [],
   "source": [
    "encode_param = [int(cv2.IMWRITE_JPEG_QUALITY), 90]\n"
   ]
  },
  {
   "cell_type": "code",
   "execution_count": null,
   "id": "f723b853",
   "metadata": {},
   "outputs": [],
   "source": [
    "while True:\n",
    "    ret,frame = cam.read()\n",
    "    \n",
    "    result, frame = cv2.imencode('.jpg', frame, encode_param)\n",
    "    data = pickle.dumps(frame, 0)\n",
    "    size = len(data)\n",
    "    \n",
    "    print(\"{}: {}\".format(img_counter, size))\n",
    "    s.sendall(struct.pack(\">L\", size) + data)\n",
    "    img_counter += 1\n",
    "    frame = cv2.imdecode(frame, cv2.IMREAD_COLOR)\n",
    "    cv2.imshow('Client',frame)\n",
    "    if cv2.waitKey(1) & 0xFF==ord('q'):\n",
    "        cv2.destroyAllWindows()\n",
    "        cam.release()\n",
    "        break"
   ]
  },
  {
   "cell_type": "code",
   "execution_count": null,
   "id": "7aca5731",
   "metadata": {},
   "outputs": [],
   "source": []
  }
 ],
 "metadata": {
  "kernelspec": {
   "display_name": "Python 3",
   "language": "python",
   "name": "python3"
  },
  "language_info": {
   "codemirror_mode": {
    "name": "ipython",
    "version": 3
   },
   "file_extension": ".py",
   "mimetype": "text/x-python",
   "name": "python",
   "nbconvert_exporter": "python",
   "pygments_lexer": "ipython3",
   "version": "3.8.8"
  }
 },
 "nbformat": 4,
 "nbformat_minor": 5
}
